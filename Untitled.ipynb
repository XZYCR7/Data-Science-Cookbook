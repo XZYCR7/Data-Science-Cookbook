{
 "cells": [
  {
   "cell_type": "markdown",
   "metadata": {},
   "source": [
    "|[**Probability I**](https://drive.google.com/open?id=0BwrKUdeoMjBgQ1MtaGtpSzdOQ28)|[**Probability II**](https://drive.google.com/open?id=0BwrKUdeoMjBgakhKVGtBUVJxamM)|\n",
    "|-----|------|\n",
    "|[**Probability I**](https://drive.google.com/open?id=0BwrKUdeoMjBgQ1MtaGtpSzdOQ28)<br>|[**Probability II**](https://drive.google.com/open?id=0BwrKUdeoMjBgakhKVGtBUVJxamM)<br>|\n",
    "|[**Keras**](https://drive.google.com/open?id=0BwrKUdeoMjBgLVFOOG9iMTdkV3c)<br>|[**Bokeh**](https://drive.google.com/open?id=0BwrKUdeoMjBgXzJ1dG9NakJ3U00)<br>|\n"
   ]
  },
  {
   "cell_type": "markdown",
   "metadata": {},
   "source": [
    "|[**Git & GitHub**](https://docs.google.com/spreadsheets/d/1nwCIU8tVB9mzoGMPcV46cLsduzS3BOhXw3eqg7Vbmtc/edit#gid=1384567545)<br>|[**Jupyter Notebook**](https://docs.google.com/spreadsheets/d/1nwCIU8tVB9mzoGMPcV46cLsduzS3BOhXw3eqg7Vbmtc/edit#gid=521660179)<br>|  \n",
    "|:-----:|:-----:|\n",
    "|[**Unix commands for Mac OS X**](https://docs.google.com/spreadsheets/d/1nwCIU8tVB9mzoGMPcV46cLsduzS3BOhXw3eqg7Vbmtc/edit#gid=521660179)<br>|[**Conda**](https://docs.google.com/spreadsheets/d/1nwCIU8tVB9mzoGMPcV46cLsduzS3BOhXw3eqg7Vbmtc/edit#gid=646725362)<br>|"
   ]
  },
  {
   "cell_type": "markdown",
   "metadata": {},
   "source": [
    "|[**Git**](https://docs.google.com/spreadsheets/d/1nwCIU8tVB9mzoGMPcV46cLsduzS3BOhXw3eqg7Vbmtc/edit#gid=1384567545)<br>|[**Jupyter**](https://docs.google.com/spreadsheets/d/1nwCIU8tVB9mzoGMPcV46cLsduzS3BOhXw3eqg7Vbmtc/edit#gid=521660179)<br>|[**Unix**](https://docs.google.com/spreadsheets/d/1nwCIU8tVB9mzoGMPcV46cLsduzS3BOhXw3eqg7Vbmtc/edit#gid=521660179)<br>|[**Conda**](https://docs.google.com/spreadsheets/d/1nwCIU8tVB9mzoGMPcV46cLsduzS3BOhXw3eqg7Vbmtc/edit#gid=646725362)<br>|\n",
    "|:-----:|:-----:|:-----:|:-----:|\n",
    "|[**S3cmd**](https://docs.google.com/spreadsheets/d/1nwCIU8tVB9mzoGMPcV46cLsduzS3BOhXw3eqg7Vbmtc/edit#gid=1470186082)<br>|[**SQL**](https://docs.google.com/spreadsheets/d/1nwCIU8tVB9mzoGMPcV46cLsduzS3BOhXw3eqg7Vbmtc/edit#gid=1051728143)<br>|[**SQL Auxiliar**](https://docs.google.com/spreadsheets/d/1nwCIU8tVB9mzoGMPcV46cLsduzS3BOhXw3eqg7Vbmtc/edit#gid=1736909955)<br>|[**SQL Joins**](https://drive.google.com/open?id=0BwrKUdeoMjBgQThZOXRtN0lQVk0)<br>|\n",
    "|[**Bits - Teras**](https://docs.google.com/spreadsheets/d/1nwCIU8tVB9mzoGMPcV46cLsduzS3BOhXw3eqg7Vbmtc/edit#gid=166350182)<br>|[**Python**](https://drive.google.com/open?id=0BwrKUdeoMjBgd1lOOVhnZ2tERlU)<br>|[**Pandas I**](https://drive.google.com/open?id=0BwrKUdeoMjBgNXpGNngtRkszQVU)<br>|[**Pandas II**](https://drive.google.com/open?id=0BwrKUdeoMjBgMFk5ODNhd2kwRHc)<br>|\n",
    "|[**Matplotlib**](https://drive.google.com/open?id=0BwrKUdeoMjBgY1kxWVJsRkZLZTA)<br>|[**Numpy**](https://drive.google.com/open?id=0BwrKUdeoMjBgbUNLc0dOZ0JRSTA)<br>|[**Scikit Learn**](https://drive.google.com/open?id=0BwrKUdeoMjBgSWUxZWVkQmZvbzg)<br>|[**Scikit Map**](https://drive.google.com/open?id=0BwrKUdeoMjBgSERBbE80Z0hxbFk)<br>|\n",
    "|[**pySpark**](https://drive.google.com/open?id=0BwrKUdeoMjBgZ09vZ0g4dHlRX28)<br>|[**Keras**](https://drive.google.com/open?id=0BwrKUdeoMjBgLVFOOG9iMTdkV3c)<br>|[**Bokeh**](https://drive.google.com/open?id=0BwrKUdeoMjBgXzJ1dG9NakJ3U00)<br>|[**Probability I**](https://drive.google.com/open?id=0BwrKUdeoMjBgQ1MtaGtpSzdOQ28)<br>|\n",
    "|[**Probability II**](https://drive.google.com/open?id=0BwrKUdeoMjBgakhKVGtBUVJxamM)<br>||||"
   ]
  },
  {
   "cell_type": "code",
   "execution_count": null,
   "metadata": {
    "collapsed": true
   },
   "outputs": [],
   "source": []
  }
 ],
 "metadata": {
  "kernelspec": {
   "display_name": "Python [py3k]",
   "language": "python",
   "name": "Python [py3k]"
  },
  "language_info": {
   "codemirror_mode": {
    "name": "ipython",
    "version": 3
   },
   "file_extension": ".py",
   "mimetype": "text/x-python",
   "name": "python",
   "nbconvert_exporter": "python",
   "pygments_lexer": "ipython3",
   "version": "3.5.2"
  }
 },
 "nbformat": 4,
 "nbformat_minor": 2
}
