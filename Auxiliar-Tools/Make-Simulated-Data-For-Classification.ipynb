{
 "cells": [
  {
   "cell_type": "markdown",
   "metadata": {
    "deletable": true,
    "editable": true
   },
   "source": [
    "# Make Simulated Data For Classfication"
   ]
  },
  {
   "cell_type": "markdown",
   "metadata": {
    "deletable": true,
    "editable": true
   },
   "source": [
    "## Preliminaries"
   ]
  },
  {
   "cell_type": "code",
   "execution_count": 1,
   "metadata": {
    "collapsed": true,
    "deletable": true,
    "editable": true
   },
   "outputs": [],
   "source": [
    "from sklearn.datasets import make_classification\n",
    "import pandas as pd"
   ]
  },
  {
   "cell_type": "markdown",
   "metadata": {
    "deletable": true,
    "editable": true
   },
   "source": [
    "## Create Simulated Data"
   ]
  },
  {
   "cell_type": "code",
   "execution_count": 2,
   "metadata": {
    "collapsed": true,
    "deletable": true,
    "editable": true
   },
   "outputs": [],
   "source": [
    "# Create a simulated feature matrix and output vector with 100 samples,\n",
    "features, output = make_classification(n_samples = 100,\n",
    "                                       # ten features\n",
    "                                       n_features = 10,\n",
    "                                       # five features that actually predict the output's classes\n",
    "                                       n_informative = 5,\n",
    "                                       # five features that are random and unrelated to the output's classes\n",
    "                                       n_redundant = 5,\n",
    "                                       # three output classes\n",
    "                                       n_classes = 3,\n",
    "                                       # with 20% of observations in the first class, 30% in the second class,\n",
    "                                       # and 50% in the third class. ('None' makes balanced classes)\n",
    "                                       weights = [.2, .3, .8])"
   ]
  },
  {
   "cell_type": "markdown",
   "metadata": {
    "deletable": true,
    "editable": true
   },
   "source": [
    "## View Data"
   ]
  },
  {
   "cell_type": "code",
   "execution_count": 3,
   "metadata": {
    "collapsed": false,
    "deletable": true,
    "editable": true
   },
   "outputs": [
    {
     "data": {
      "text/html": [
       "<div>\n",
       "<style>\n",
       "    .dataframe thead tr:only-child th {\n",
       "        text-align: right;\n",
       "    }\n",
       "\n",
       "    .dataframe thead th {\n",
       "        text-align: left;\n",
       "    }\n",
       "\n",
       "    .dataframe tbody tr th {\n",
       "        vertical-align: top;\n",
       "    }\n",
       "</style>\n",
       "<table border=\"1\" class=\"dataframe\">\n",
       "  <thead>\n",
       "    <tr style=\"text-align: right;\">\n",
       "      <th></th>\n",
       "      <th>0</th>\n",
       "      <th>1</th>\n",
       "      <th>2</th>\n",
       "      <th>3</th>\n",
       "      <th>4</th>\n",
       "      <th>5</th>\n",
       "      <th>6</th>\n",
       "      <th>7</th>\n",
       "      <th>8</th>\n",
       "      <th>9</th>\n",
       "    </tr>\n",
       "  </thead>\n",
       "  <tbody>\n",
       "    <tr>\n",
       "      <th>0</th>\n",
       "      <td>-1.082646</td>\n",
       "      <td>0.802532</td>\n",
       "      <td>-1.017616</td>\n",
       "      <td>1.922875</td>\n",
       "      <td>-0.825424</td>\n",
       "      <td>-1.830345</td>\n",
       "      <td>-2.639839</td>\n",
       "      <td>0.160008</td>\n",
       "      <td>-2.036662</td>\n",
       "      <td>0.687604</td>\n",
       "    </tr>\n",
       "    <tr>\n",
       "      <th>1</th>\n",
       "      <td>4.482684</td>\n",
       "      <td>0.779078</td>\n",
       "      <td>4.033425</td>\n",
       "      <td>-4.274486</td>\n",
       "      <td>-0.983124</td>\n",
       "      <td>0.629135</td>\n",
       "      <td>0.950725</td>\n",
       "      <td>-3.839713</td>\n",
       "      <td>3.529737</td>\n",
       "      <td>3.839701</td>\n",
       "    </tr>\n",
       "    <tr>\n",
       "      <th>2</th>\n",
       "      <td>0.152131</td>\n",
       "      <td>0.008197</td>\n",
       "      <td>0.185009</td>\n",
       "      <td>-0.584866</td>\n",
       "      <td>-0.617847</td>\n",
       "      <td>-0.246054</td>\n",
       "      <td>-0.081062</td>\n",
       "      <td>-0.617567</td>\n",
       "      <td>0.124834</td>\n",
       "      <td>0.978615</td>\n",
       "    </tr>\n",
       "    <tr>\n",
       "      <th>3</th>\n",
       "      <td>3.511918</td>\n",
       "      <td>2.854126</td>\n",
       "      <td>2.496142</td>\n",
       "      <td>-1.184498</td>\n",
       "      <td>-0.535342</td>\n",
       "      <td>-2.067848</td>\n",
       "      <td>-2.510524</td>\n",
       "      <td>-2.004774</td>\n",
       "      <td>1.795831</td>\n",
       "      <td>2.781715</td>\n",
       "    </tr>\n",
       "    <tr>\n",
       "      <th>4</th>\n",
       "      <td>0.857236</td>\n",
       "      <td>-0.373186</td>\n",
       "      <td>1.174515</td>\n",
       "      <td>-1.740744</td>\n",
       "      <td>-0.123789</td>\n",
       "      <td>1.458345</td>\n",
       "      <td>1.494197</td>\n",
       "      <td>-0.391880</td>\n",
       "      <td>1.091220</td>\n",
       "      <td>-0.060528</td>\n",
       "    </tr>\n",
       "  </tbody>\n",
       "</table>\n",
       "</div>"
      ],
      "text/plain": [
       "          0         1         2         3         4         5         6  \\\n",
       "0 -1.082646  0.802532 -1.017616  1.922875 -0.825424 -1.830345 -2.639839   \n",
       "1  4.482684  0.779078  4.033425 -4.274486 -0.983124  0.629135  0.950725   \n",
       "2  0.152131  0.008197  0.185009 -0.584866 -0.617847 -0.246054 -0.081062   \n",
       "3  3.511918  2.854126  2.496142 -1.184498 -0.535342 -2.067848 -2.510524   \n",
       "4  0.857236 -0.373186  1.174515 -1.740744 -0.123789  1.458345  1.494197   \n",
       "\n",
       "          7         8         9  \n",
       "0  0.160008 -2.036662  0.687604  \n",
       "1 -3.839713  3.529737  3.839701  \n",
       "2 -0.617567  0.124834  0.978615  \n",
       "3 -2.004774  1.795831  2.781715  \n",
       "4 -0.391880  1.091220 -0.060528  "
      ]
     },
     "execution_count": 3,
     "metadata": {},
     "output_type": "execute_result"
    }
   ],
   "source": [
    "# View the first five observations and their 10 features\n",
    "pd.DataFrame(features).head()"
   ]
  },
  {
   "cell_type": "code",
   "execution_count": 4,
   "metadata": {
    "collapsed": false,
    "deletable": true,
    "editable": true
   },
   "outputs": [
    {
     "data": {
      "text/html": [
       "<div>\n",
       "<style>\n",
       "    .dataframe thead tr:only-child th {\n",
       "        text-align: right;\n",
       "    }\n",
       "\n",
       "    .dataframe thead th {\n",
       "        text-align: left;\n",
       "    }\n",
       "\n",
       "    .dataframe tbody tr th {\n",
       "        vertical-align: top;\n",
       "    }\n",
       "</style>\n",
       "<table border=\"1\" class=\"dataframe\">\n",
       "  <thead>\n",
       "    <tr style=\"text-align: right;\">\n",
       "      <th></th>\n",
       "      <th>0</th>\n",
       "    </tr>\n",
       "  </thead>\n",
       "  <tbody>\n",
       "    <tr>\n",
       "      <th>0</th>\n",
       "      <td>0</td>\n",
       "    </tr>\n",
       "    <tr>\n",
       "      <th>1</th>\n",
       "      <td>2</td>\n",
       "    </tr>\n",
       "    <tr>\n",
       "      <th>2</th>\n",
       "      <td>0</td>\n",
       "    </tr>\n",
       "    <tr>\n",
       "      <th>3</th>\n",
       "      <td>0</td>\n",
       "    </tr>\n",
       "    <tr>\n",
       "      <th>4</th>\n",
       "      <td>1</td>\n",
       "    </tr>\n",
       "  </tbody>\n",
       "</table>\n",
       "</div>"
      ],
      "text/plain": [
       "   0\n",
       "0  0\n",
       "1  2\n",
       "2  0\n",
       "3  0\n",
       "4  1"
      ]
     },
     "execution_count": 4,
     "metadata": {},
     "output_type": "execute_result"
    }
   ],
   "source": [
    "# View the first five observation's classes\n",
    "pd.DataFrame(output).head()"
   ]
  }
 ],
 "metadata": {
  "kernelspec": {
   "display_name": "Python [py3k]",
   "language": "python",
   "name": "Python [py3k]"
  },
  "language_info": {
   "codemirror_mode": {
    "name": "ipython",
    "version": 3
   },
   "file_extension": ".py",
   "mimetype": "text/x-python",
   "name": "python",
   "nbconvert_exporter": "python",
   "pygments_lexer": "ipython3",
   "version": "3.5.2"
  }
 },
 "nbformat": 4,
 "nbformat_minor": 2
}
