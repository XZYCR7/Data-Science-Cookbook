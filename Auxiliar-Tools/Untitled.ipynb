{
 "cells": [
  {
   "cell_type": "markdown",
   "metadata": {},
   "source": [
    "# Check Environment\n",
    "This notebook checks that you have correctly created the environment and that all packages needed are installed."
   ]
  },
  {
   "cell_type": "markdown",
   "metadata": {},
   "source": [
    "## Environment\n",
    "\n",
    "In particular you should make sure that you are using the python executable from within the course environment."
   ]
  },
  {
   "cell_type": "code",
   "execution_count": 1,
   "metadata": {
    "collapsed": false
   },
   "outputs": [
    {
     "data": {
      "text/plain": [
       "'/Users/marcosaguilerakeyser/anaconda2/bin/python'"
      ]
     },
     "execution_count": 1,
     "metadata": {},
     "output_type": "execute_result"
    }
   ],
   "source": [
    "import os\n",
    "import sys\n",
    "sys.executable"
   ]
  },
  {
   "cell_type": "markdown",
   "metadata": {},
   "source": [
    "## Python Version\n",
    "\n",
    "The next line should say that you're using Python 2.7.x from Continuum Analytics."
   ]
  },
  {
   "cell_type": "code",
   "execution_count": 3,
   "metadata": {
    "collapsed": false
   },
   "outputs": [
    {
     "data": {
      "text/plain": [
       "'2.7.13 |Anaconda custom (x86_64)| (default, Dec 20 2016, 23:05:08) \\n[GCC 4.2.1 Compatible Apple LLVM 6.0 (clang-600.0.57)]'"
      ]
     },
     "execution_count": 3,
     "metadata": {},
     "output_type": "execute_result"
    }
   ],
   "source": [
    "import sys\n",
    "sys.version"
   ]
  },
  {
   "cell_type": "markdown",
   "metadata": {},
   "source": [
    "## Jupyter\n",
    "\n",
    "Check that Jupyter is running from within the environment."
   ]
  },
  {
   "cell_type": "code",
   "execution_count": 5,
   "metadata": {
    "collapsed": false
   },
   "outputs": [
    {
     "data": {
      "text/plain": [
       "'/Users/marcosaguilerakeyser/anaconda2/lib/python2.7/site-packages/jupyter.py'"
      ]
     },
     "execution_count": 5,
     "metadata": {},
     "output_type": "execute_result"
    }
   ],
   "source": [
    "import jupyter\n",
    "jupyter.__file__"
   ]
  },
  {
   "cell_type": "markdown",
   "metadata": {},
   "source": [
    "## Other packages\n",
    "\n",
    "Here we will check that all the packages are installed and have the correct versions. If everything is ok you should see:\n",
    "    \n",
    "    Using TensorFlow backend.\n",
    "    \n",
    "    Houston we are go!\n",
    "\n",
    "If there's any issue here please make sure you have checked the previous steps and if it's all good please send us a question in the Q&A forum."
   ]
  },
  {
   "cell_type": "code",
   "execution_count": 7,
   "metadata": {
    "collapsed": false
   },
   "outputs": [
    {
     "name": "stdout",
     "output_type": "stream",
     "text": [
      "Houston we are go!\n"
     ]
    }
   ],
   "source": [
    "import pip\n",
    "import numpy\n",
    "import jupyter\n",
    "import matplotlib\n",
    "import sklearn\n",
    "import scipy\n",
    "import pandas\n",
    "import PIL\n",
    "import seaborn\n",
    "import h5py\n",
    "\n",
    "assert(pip.__version__ == '9.0.1')\n",
    "assert(numpy.__version__ == '1.11.3')\n",
    "assert(matplotlib.__version__ == '2.0.0')\n",
    "assert(sklearn.__version__ == '0.18.1')\n",
    "assert(scipy.__version__ == '0.19.0')\n",
    "assert(pandas.__version__ == '0.19.2')\n",
    "assert(PIL.__version__ == '4.0.0')\n",
    "assert(seaborn.__version__ == '0.7.1')\n",
    "assert(h5py.__version__ == '2.7.0')\n",
    "\n",
    "print(\"Houston we are go!\")"
   ]
  },
  {
   "cell_type": "code",
   "execution_count": 8,
   "metadata": {
    "collapsed": false
   },
   "outputs": [
    {
     "name": "stdout",
     "output_type": "stream",
     "text": [
      "1.11.3\n"
     ]
    }
   ],
   "source": [
    "print(numpy.__version__ )"
   ]
  },
  {
   "cell_type": "code",
   "execution_count": 9,
   "metadata": {
    "collapsed": false
   },
   "outputs": [
    {
     "name": "stdout",
     "output_type": "stream",
     "text": [
      "1.5.3\n"
     ]
    }
   ],
   "source": [
    "print(matplotlib.__version__)"
   ]
  },
  {
   "cell_type": "code",
   "execution_count": null,
   "metadata": {
    "collapsed": true
   },
   "outputs": [],
   "source": []
  }
 ],
 "metadata": {
  "kernelspec": {
   "display_name": "Python [Root]",
   "language": "python",
   "name": "Python [Root]"
  },
  "language_info": {
   "codemirror_mode": {
    "name": "ipython",
    "version": 2
   },
   "file_extension": ".py",
   "mimetype": "text/x-python",
   "name": "python",
   "nbconvert_exporter": "python",
   "pygments_lexer": "ipython2",
   "version": "2.7.13"
  }
 },
 "nbformat": 4,
 "nbformat_minor": 2
}
